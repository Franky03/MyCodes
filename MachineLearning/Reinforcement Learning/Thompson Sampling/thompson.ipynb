{
 "cells": [
  {
   "cell_type": "code",
   "execution_count": null,
   "metadata": {},
   "outputs": [],
   "source": [
    "import pandas as pd\n",
    "import matplotlib.pyplot as plt\n",
    "import numpy as np\n",
    "\n",
    "df= pd.read_csv(\"Ads_CTR_Optimisation.csv\")\n",
    "\n",
    "import math\n",
    "\n",
    "N=10000\n",
    "d=10\n",
    "arms= []\n",
    "number_rewards_1= [0] * d\n",
    "number_rewards_0= [0] * d\n",
    "total_reward=0\n"
   ]
  }
 ],
 "metadata": {
  "kernelspec": {
   "display_name": "Python 3.10.6 64-bit",
   "language": "python",
   "name": "python3"
  },
  "language_info": {
   "name": "python",
   "version": "3.10.6"
  },
  "orig_nbformat": 4,
  "vscode": {
   "interpreter": {
    "hash": "d45f044b994bdd0a78b0fcc3bfdc2fd3f4043f7b8eee14c892a3234052998808"
   }
  }
 },
 "nbformat": 4,
 "nbformat_minor": 2
}
